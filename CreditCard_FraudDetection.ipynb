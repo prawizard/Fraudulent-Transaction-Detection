{
 "cells": [
  {
   "cell_type": "markdown",
   "metadata": {},
   "source": [
    "<h1><center>Fraudulent Transaction Detection Using Machine Learning Algorithms</center></h1>"
   ]
  },
  {
   "cell_type": "markdown",
   "metadata": {},
   "source": [
    "# Indroduction To Fraudulent Transaction Detection"
   ]
  },
  {
   "cell_type": "markdown",
   "metadata": {},
   "source": [
    "Financial organizations like banks and Forex service providers take several measures to protect thier customers' funds. Some of these measure may include verification of certain details when a customer tries to login to his/her bank account on a new device. For example, one may be asked a series of security questions when tried to login on a device that was never used before, to login.\n",
    "<br>\n",
    "<br>\n",
    "Banks generally perform checks to ensure that a transaction is actually intended by the customer even after the required payment details provided are correct. Several parameters are used to declare the transaction fraudulent or non-fraudulent and this operation is crucial for customers to feel safe about their deposited funds in the banks. Some of the parameters that may be used by the banks for this classification are as follows:\n",
    "1. Comparison between average and maximum amount spent over a certain period of time.\n",
    "2. The last time the cerdit/debit card was used.\n",
    "3. Place/location where the transaction was processed.\n",
    "4. Beneficiary account details."
   ]
  },
  {
   "cell_type": "markdown",
   "metadata": {},
   "source": [
    "In this project, an implementation of fraudulent transaction detection system as been carried out. This is achieved using Machine Learning algorithms like Random forest classier and Logistic Regression along with a couple of other classifiers as will be seen in the sections that follow. Each following section consists of the implementation code along with detailed explanation where required. "
   ]
  },
  {
   "cell_type": "markdown",
   "metadata": {},
   "source": [
    "## Import the libraries"
   ]
  },
  {
   "cell_type": "code",
   "execution_count": 180,
   "metadata": {},
   "outputs": [],
   "source": [
    "import pandas as pd \n",
    "import numpy as np \n",
    "from sklearn.model_selection import train_test_split \n",
    "from sklearn.tree import DecisionTreeClassifier \n",
    "from sklearn.neighbors import KNeighborsClassifier \n",
    "from sklearn.ensemble import RandomForestClassifier \n",
    "from sklearn.linear_model import LogisticRegression \n",
    "from sklearn.model_selection import GridSearchCV\n",
    "import matplotlib.pyplot as plt\n",
    "import seaborn as sns\n",
    "from sklearn.metrics import confusion_matrix, accuracy_score\n",
    "from sklearn.metrics import f1_score, confusion_matrix "
   ]
  },
  {
   "cell_type": "markdown",
   "metadata": {},
   "source": [
    "## Reading the Dataset into a Pandas Dataframe"
   ]
  },
  {
   "cell_type": "markdown",
   "metadata": {},
   "source": [
    "The dataset used is available for download at https://www.kaggle.com/mlg-ulb/creditcardfraud"
   ]
  },
  {
   "cell_type": "code",
   "execution_count": 181,
   "metadata": {},
   "outputs": [],
   "source": [
    "dir_path='D:\\\\UniversityOfEssex\\\\MA336_AI'\n",
    "folder_path='FinalProject\\\\Credit_Card_Fraud_Detection'\n",
    "df = pd.read_csv(dir_path+'\\\\'+folder_path+'\\\\creditcard.csv')\n",
    "\n",
    "# Drop the 'Time' column as it has no relevance \n",
    "\n",
    "df.drop('Time', axis = 1, inplace = True)"
   ]
  },
  {
   "cell_type": "markdown",
   "metadata": {},
   "source": [
    "# Methods "
   ]
  },
  {
   "cell_type": "markdown",
   "metadata": {},
   "source": [
    "As it can be observed, the problem we have to solve falls in the category of classification. Given the details of a transaction, we are required to classify it as either a fraudulent or a non-fraudulent transaction. "
   ]
  },
  {
   "cell_type": "markdown",
   "metadata": {},
   "source": [
    "## EDA"
   ]
  },
  {
   "cell_type": "markdown",
   "metadata": {},
   "source": [
    "Examining the first few records in out data."
   ]
  },
  {
   "cell_type": "code",
   "execution_count": 182,
   "metadata": {},
   "outputs": [
    {
     "data": {
      "text/html": [
       "<div>\n",
       "<style scoped>\n",
       "    .dataframe tbody tr th:only-of-type {\n",
       "        vertical-align: middle;\n",
       "    }\n",
       "\n",
       "    .dataframe tbody tr th {\n",
       "        vertical-align: top;\n",
       "    }\n",
       "\n",
       "    .dataframe thead th {\n",
       "        text-align: right;\n",
       "    }\n",
       "</style>\n",
       "<table border=\"1\" class=\"dataframe\">\n",
       "  <thead>\n",
       "    <tr style=\"text-align: right;\">\n",
       "      <th></th>\n",
       "      <th>V1</th>\n",
       "      <th>V2</th>\n",
       "      <th>V3</th>\n",
       "      <th>V4</th>\n",
       "      <th>V5</th>\n",
       "      <th>V6</th>\n",
       "      <th>V7</th>\n",
       "      <th>V8</th>\n",
       "      <th>V9</th>\n",
       "      <th>V10</th>\n",
       "      <th>...</th>\n",
       "      <th>V21</th>\n",
       "      <th>V22</th>\n",
       "      <th>V23</th>\n",
       "      <th>V24</th>\n",
       "      <th>V25</th>\n",
       "      <th>V26</th>\n",
       "      <th>V27</th>\n",
       "      <th>V28</th>\n",
       "      <th>Amount</th>\n",
       "      <th>Class</th>\n",
       "    </tr>\n",
       "  </thead>\n",
       "  <tbody>\n",
       "    <tr>\n",
       "      <th>0</th>\n",
       "      <td>-1.359807</td>\n",
       "      <td>-0.072781</td>\n",
       "      <td>2.536347</td>\n",
       "      <td>1.378155</td>\n",
       "      <td>-0.338321</td>\n",
       "      <td>0.462388</td>\n",
       "      <td>0.239599</td>\n",
       "      <td>0.098698</td>\n",
       "      <td>0.363787</td>\n",
       "      <td>0.090794</td>\n",
       "      <td>...</td>\n",
       "      <td>-0.018307</td>\n",
       "      <td>0.277838</td>\n",
       "      <td>-0.110474</td>\n",
       "      <td>0.066928</td>\n",
       "      <td>0.128539</td>\n",
       "      <td>-0.189115</td>\n",
       "      <td>0.133558</td>\n",
       "      <td>-0.021053</td>\n",
       "      <td>149.62</td>\n",
       "      <td>0</td>\n",
       "    </tr>\n",
       "    <tr>\n",
       "      <th>1</th>\n",
       "      <td>1.191857</td>\n",
       "      <td>0.266151</td>\n",
       "      <td>0.166480</td>\n",
       "      <td>0.448154</td>\n",
       "      <td>0.060018</td>\n",
       "      <td>-0.082361</td>\n",
       "      <td>-0.078803</td>\n",
       "      <td>0.085102</td>\n",
       "      <td>-0.255425</td>\n",
       "      <td>-0.166974</td>\n",
       "      <td>...</td>\n",
       "      <td>-0.225775</td>\n",
       "      <td>-0.638672</td>\n",
       "      <td>0.101288</td>\n",
       "      <td>-0.339846</td>\n",
       "      <td>0.167170</td>\n",
       "      <td>0.125895</td>\n",
       "      <td>-0.008983</td>\n",
       "      <td>0.014724</td>\n",
       "      <td>2.69</td>\n",
       "      <td>0</td>\n",
       "    </tr>\n",
       "    <tr>\n",
       "      <th>2</th>\n",
       "      <td>-1.358354</td>\n",
       "      <td>-1.340163</td>\n",
       "      <td>1.773209</td>\n",
       "      <td>0.379780</td>\n",
       "      <td>-0.503198</td>\n",
       "      <td>1.800499</td>\n",
       "      <td>0.791461</td>\n",
       "      <td>0.247676</td>\n",
       "      <td>-1.514654</td>\n",
       "      <td>0.207643</td>\n",
       "      <td>...</td>\n",
       "      <td>0.247998</td>\n",
       "      <td>0.771679</td>\n",
       "      <td>0.909412</td>\n",
       "      <td>-0.689281</td>\n",
       "      <td>-0.327642</td>\n",
       "      <td>-0.139097</td>\n",
       "      <td>-0.055353</td>\n",
       "      <td>-0.059752</td>\n",
       "      <td>378.66</td>\n",
       "      <td>0</td>\n",
       "    </tr>\n",
       "    <tr>\n",
       "      <th>3</th>\n",
       "      <td>-0.966272</td>\n",
       "      <td>-0.185226</td>\n",
       "      <td>1.792993</td>\n",
       "      <td>-0.863291</td>\n",
       "      <td>-0.010309</td>\n",
       "      <td>1.247203</td>\n",
       "      <td>0.237609</td>\n",
       "      <td>0.377436</td>\n",
       "      <td>-1.387024</td>\n",
       "      <td>-0.054952</td>\n",
       "      <td>...</td>\n",
       "      <td>-0.108300</td>\n",
       "      <td>0.005274</td>\n",
       "      <td>-0.190321</td>\n",
       "      <td>-1.175575</td>\n",
       "      <td>0.647376</td>\n",
       "      <td>-0.221929</td>\n",
       "      <td>0.062723</td>\n",
       "      <td>0.061458</td>\n",
       "      <td>123.50</td>\n",
       "      <td>0</td>\n",
       "    </tr>\n",
       "    <tr>\n",
       "      <th>4</th>\n",
       "      <td>-1.158233</td>\n",
       "      <td>0.877737</td>\n",
       "      <td>1.548718</td>\n",
       "      <td>0.403034</td>\n",
       "      <td>-0.407193</td>\n",
       "      <td>0.095921</td>\n",
       "      <td>0.592941</td>\n",
       "      <td>-0.270533</td>\n",
       "      <td>0.817739</td>\n",
       "      <td>0.753074</td>\n",
       "      <td>...</td>\n",
       "      <td>-0.009431</td>\n",
       "      <td>0.798278</td>\n",
       "      <td>-0.137458</td>\n",
       "      <td>0.141267</td>\n",
       "      <td>-0.206010</td>\n",
       "      <td>0.502292</td>\n",
       "      <td>0.219422</td>\n",
       "      <td>0.215153</td>\n",
       "      <td>69.99</td>\n",
       "      <td>0</td>\n",
       "    </tr>\n",
       "  </tbody>\n",
       "</table>\n",
       "<p>5 rows × 30 columns</p>\n",
       "</div>"
      ],
      "text/plain": [
       "         V1        V2        V3        V4        V5        V6        V7  \\\n",
       "0 -1.359807 -0.072781  2.536347  1.378155 -0.338321  0.462388  0.239599   \n",
       "1  1.191857  0.266151  0.166480  0.448154  0.060018 -0.082361 -0.078803   \n",
       "2 -1.358354 -1.340163  1.773209  0.379780 -0.503198  1.800499  0.791461   \n",
       "3 -0.966272 -0.185226  1.792993 -0.863291 -0.010309  1.247203  0.237609   \n",
       "4 -1.158233  0.877737  1.548718  0.403034 -0.407193  0.095921  0.592941   \n",
       "\n",
       "         V8        V9       V10  ...       V21       V22       V23       V24  \\\n",
       "0  0.098698  0.363787  0.090794  ... -0.018307  0.277838 -0.110474  0.066928   \n",
       "1  0.085102 -0.255425 -0.166974  ... -0.225775 -0.638672  0.101288 -0.339846   \n",
       "2  0.247676 -1.514654  0.207643  ...  0.247998  0.771679  0.909412 -0.689281   \n",
       "3  0.377436 -1.387024 -0.054952  ... -0.108300  0.005274 -0.190321 -1.175575   \n",
       "4 -0.270533  0.817739  0.753074  ... -0.009431  0.798278 -0.137458  0.141267   \n",
       "\n",
       "        V25       V26       V27       V28  Amount  Class  \n",
       "0  0.128539 -0.189115  0.133558 -0.021053  149.62      0  \n",
       "1  0.167170  0.125895 -0.008983  0.014724    2.69      0  \n",
       "2 -0.327642 -0.139097 -0.055353 -0.059752  378.66      0  \n",
       "3  0.647376 -0.221929  0.062723  0.061458  123.50      0  \n",
       "4 -0.206010  0.502292  0.219422  0.215153   69.99      0  \n",
       "\n",
       "[5 rows x 30 columns]"
      ]
     },
     "execution_count": 182,
     "metadata": {},
     "output_type": "execute_result"
    }
   ],
   "source": [
    "df.head()"
   ]
  },
  {
   "cell_type": "markdown",
   "metadata": {},
   "source": [
    "The independent variables here are the resultant variables on using PCA to reduce the dimensionality of data. Thus, the actual collected data might have been of a much higher dimensionality than the dimensionality that can be seen in our dataset. In order to maintain confidentiality of the transactions data, the exact feature names are not disclosed in the data and hence the feature names like V1, V2, etc.\n",
    "\n",
    "Most of the variables (except 'Amount') are already scaled appropriately. Otherwise, we would scale the numerical features by standard deviation or normalize in order to speed up learning.\n"
   ]
  },
  {
   "cell_type": "code",
   "execution_count": 183,
   "metadata": {},
   "outputs": [
    {
     "data": {
      "text/plain": [
       "(284807, 30)"
      ]
     },
     "execution_count": 183,
     "metadata": {},
     "output_type": "execute_result"
    }
   ],
   "source": [
    "df.shape"
   ]
  },
  {
   "cell_type": "markdown",
   "metadata": {},
   "source": [
    "The data available consists of 284807 records with information about 30 useful variables, one of which is the response variable. The variables from V1 to V28 are the resultant principal components on application of PCA to reduce the number of dimensions in the data."
   ]
  },
  {
   "cell_type": "markdown",
   "metadata": {},
   "source": [
    "# "
   ]
  },
  {
   "cell_type": "code",
   "execution_count": 184,
   "metadata": {},
   "outputs": [
    {
     "data": {
      "text/plain": [
       "0    284315\n",
       "1       492\n",
       "Name: Class, dtype: int64"
      ]
     },
     "execution_count": 184,
     "metadata": {},
     "output_type": "execute_result"
    }
   ],
   "source": [
    "df.Class.value_counts()"
   ]
  },
  {
   "cell_type": "code",
   "execution_count": 185,
   "metadata": {},
   "outputs": [
    {
     "data": {
      "image/png": "[encoded data removed]",
      "text/plain": [
       "<Figure size 576x432 with 1 Axes>"
      ]
     },
     "metadata": {},
     "output_type": "display_data"
    }
   ],
   "source": [
    "categories = 'Fraudulent', 'Non-Fraudulent'\n",
    "counts = [df.Class[df['Class']==1].count(), df.Class[df['Class']==0].count()]\n",
    "fig, ax = plt.subplots(figsize=(8, 6))\n",
    "ax.pie(counts, labels=categories, autopct='%1.2f%%', startangle=0)\n",
    "ax.axis('equal')\n",
    "plt.title(\"Proportion of Fraudulent and Non-Fraudulent Transactions\", size = 15)\n",
    "plt.show()"
   ]
  },
  {
   "cell_type": "code",
   "execution_count": 186,
   "metadata": {},
   "outputs": [
    {
     "data": {
      "text/plain": [
       "0.173"
      ]
     },
     "execution_count": 186,
     "metadata": {},
     "output_type": "execute_result"
    }
   ],
   "source": [
    "round((df.Class.value_counts()[1]/df.Class.value_counts()[0])*100, 3)"
   ]
  },
  {
   "cell_type": "markdown",
   "metadata": {},
   "source": [
    "'Class' is the response variable. We can see above, that the number of fraudulent cases is very less compared to that of the non-fraudulent cases (Just about 0.17% of the total cases). Hence, the dataset is highly imbalanced. \n",
    "\n",
    "This is true in general, the number of fraudulent transactions are seen less often than the non-fraudulent ones.\n",
    "\n",
    "This means that accuracy is not a reliable evaluation metric."
   ]
  },
  {
   "cell_type": "markdown",
   "metadata": {},
   "source": [
    "# "
   ]
  },
  {
   "cell_type": "markdown",
   "metadata": {},
   "source": [
    "Amount involved in the transactions"
   ]
  },
  {
   "cell_type": "code",
   "execution_count": 187,
   "metadata": {},
   "outputs": [
    {
     "data": {
      "text/plain": [
       "<AxesSubplot:xlabel='Class', ylabel='Amount'>"
      ]
     },
     "execution_count": 187,
     "metadata": {},
     "output_type": "execute_result"
    },
    {
     "data": {
      "image/png": "[encoded data removed]",
      "text/plain": [
       "<Figure size 432x288 with 1 Axes>"
      ]
     },
     "metadata": {
      "needs_background": "light"
     },
     "output_type": "display_data"
    }
   ],
   "source": [
    "sns.boxplot(x = 'Class', y='Amount', hue = 'Class', data = df)"
   ]
  },
  {
   "cell_type": "code",
   "execution_count": 188,
   "metadata": {},
   "outputs": [
    {
     "name": "stdout",
     "output_type": "stream",
     "text": [
      "Summary statistics of Fraudulent transaction amount: \n",
      "\n"
     ]
    },
    {
     "data": {
      "text/plain": [
       "count     492.000000\n",
       "mean      122.211321\n",
       "std       256.683288\n",
       "min         0.000000\n",
       "25%         1.000000\n",
       "50%         9.250000\n",
       "75%       105.890000\n",
       "max      2125.870000\n",
       "Name: Amount, dtype: float64"
      ]
     },
     "execution_count": 188,
     "metadata": {},
     "output_type": "execute_result"
    }
   ],
   "source": [
    "fraudulent_records = df.loc[df.Class == 1]\n",
    "non_fraudulent_records = df.loc[df.Class == 0]\n",
    "\n",
    "print('Summary statistics of Fraudulent transaction amount: ')\n",
    "print('')\n",
    "fraudulent_records['Amount'].describe()"
   ]
  },
  {
   "cell_type": "code",
   "execution_count": 189,
   "metadata": {},
   "outputs": [
    {
     "name": "stdout",
     "output_type": "stream",
     "text": [
      "Summary statistics of Non-Fraudulent transaction amount: \n",
      "\n"
     ]
    },
    {
     "data": {
      "text/plain": [
       "count    284315.000000\n",
       "mean         88.291022\n",
       "std         250.105092\n",
       "min           0.000000\n",
       "25%           5.650000\n",
       "50%          22.000000\n",
       "75%          77.050000\n",
       "max       25691.160000\n",
       "Name: Amount, dtype: float64"
      ]
     },
     "execution_count": 189,
     "metadata": {},
     "output_type": "execute_result"
    }
   ],
   "source": [
    "print('Summary statistics of Non-Fraudulent transaction amount: ')\n",
    "print('')\n",
    "non_fraudulent_records['Amount'].describe()"
   ]
  },
  {
   "cell_type": "markdown",
   "metadata": {},
   "source": [
    "We observe that about three-fourths of the transactions were processed for low amounts of about USD105 or lesser in fraudulent transactions and about USD77 or lesser in case of non-fraudulent transactions. These can be noted from the third quartile (Q3) or 75-percentile value above."
   ]
  },
  {
   "cell_type": "markdown",
   "metadata": {},
   "source": []
  },
  {
   "cell_type": "markdown",
   "metadata": {},
   "source": [
    "Following cells provide a brief idea about the numerical variables that we'll deal with. The variables appear to be centered around the mean, or are in the similar range and hence we need not scale them by normalizing further."
   ]
  },
  {
   "cell_type": "code",
   "execution_count": 190,
   "metadata": {
    "scrolled": true
   },
   "outputs": [
    {
     "data": {
      "text/html": [
       "<div>\n",
       "<style scoped>\n",
       "    .dataframe tbody tr th:only-of-type {\n",
       "        vertical-align: middle;\n",
       "    }\n",
       "\n",
       "    .dataframe tbody tr th {\n",
       "        vertical-align: top;\n",
       "    }\n",
       "\n",
       "    .dataframe thead th {\n",
       "        text-align: right;\n",
       "    }\n",
       "</style>\n",
       "<table border=\"1\" class=\"dataframe\">\n",
       "  <thead>\n",
       "    <tr style=\"text-align: right;\">\n",
       "      <th></th>\n",
       "      <th>V1</th>\n",
       "      <th>V2</th>\n",
       "      <th>V3</th>\n",
       "      <th>V4</th>\n",
       "      <th>V5</th>\n",
       "      <th>V6</th>\n",
       "      <th>V7</th>\n",
       "      <th>V8</th>\n",
       "      <th>V9</th>\n",
       "      <th>V10</th>\n",
       "      <th>...</th>\n",
       "      <th>V21</th>\n",
       "      <th>V22</th>\n",
       "      <th>V23</th>\n",
       "      <th>V24</th>\n",
       "      <th>V25</th>\n",
       "      <th>V26</th>\n",
       "      <th>V27</th>\n",
       "      <th>V28</th>\n",
       "      <th>Amount</th>\n",
       "      <th>Class</th>\n",
       "    </tr>\n",
       "  </thead>\n",
       "  <tbody>\n",
       "    <tr>\n",
       "      <th>count</th>\n",
       "      <td>492.000000</td>\n",
       "      <td>492.000000</td>\n",
       "      <td>492.000000</td>\n",
       "      <td>492.000000</td>\n",
       "      <td>492.000000</td>\n",
       "      <td>492.000000</td>\n",
       "      <td>492.000000</td>\n",
       "      <td>492.000000</td>\n",
       "      <td>492.000000</td>\n",
       "      <td>492.000000</td>\n",
       "      <td>...</td>\n",
       "      <td>492.000000</td>\n",
       "      <td>492.000000</td>\n",
       "      <td>492.000000</td>\n",
       "      <td>492.000000</td>\n",
       "      <td>492.000000</td>\n",
       "      <td>492.000000</td>\n",
       "      <td>492.000000</td>\n",
       "      <td>492.000000</td>\n",
       "      <td>492.000000</td>\n",
       "      <td>492.0</td>\n",
       "    </tr>\n",
       "    <tr>\n",
       "      <th>mean</th>\n",
       "      <td>-4.771948</td>\n",
       "      <td>3.623778</td>\n",
       "      <td>-7.033281</td>\n",
       "      <td>4.542029</td>\n",
       "      <td>-3.151225</td>\n",
       "      <td>-1.397737</td>\n",
       "      <td>-5.568731</td>\n",
       "      <td>0.570636</td>\n",
       "      <td>-2.581123</td>\n",
       "      <td>-5.676883</td>\n",
       "      <td>...</td>\n",
       "      <td>0.713588</td>\n",
       "      <td>0.014049</td>\n",
       "      <td>-0.040308</td>\n",
       "      <td>-0.105130</td>\n",
       "      <td>0.041449</td>\n",
       "      <td>0.051648</td>\n",
       "      <td>0.170575</td>\n",
       "      <td>0.075667</td>\n",
       "      <td>122.211321</td>\n",
       "      <td>1.0</td>\n",
       "    </tr>\n",
       "    <tr>\n",
       "      <th>std</th>\n",
       "      <td>6.783687</td>\n",
       "      <td>4.291216</td>\n",
       "      <td>7.110937</td>\n",
       "      <td>2.873318</td>\n",
       "      <td>5.372468</td>\n",
       "      <td>1.858124</td>\n",
       "      <td>7.206773</td>\n",
       "      <td>6.797831</td>\n",
       "      <td>2.500896</td>\n",
       "      <td>4.897341</td>\n",
       "      <td>...</td>\n",
       "      <td>3.869304</td>\n",
       "      <td>1.494602</td>\n",
       "      <td>1.579642</td>\n",
       "      <td>0.515577</td>\n",
       "      <td>0.797205</td>\n",
       "      <td>0.471679</td>\n",
       "      <td>1.376766</td>\n",
       "      <td>0.547291</td>\n",
       "      <td>256.683288</td>\n",
       "      <td>0.0</td>\n",
       "    </tr>\n",
       "    <tr>\n",
       "      <th>min</th>\n",
       "      <td>-30.552380</td>\n",
       "      <td>-8.402154</td>\n",
       "      <td>-31.103685</td>\n",
       "      <td>-1.313275</td>\n",
       "      <td>-22.105532</td>\n",
       "      <td>-6.406267</td>\n",
       "      <td>-43.557242</td>\n",
       "      <td>-41.044261</td>\n",
       "      <td>-13.434066</td>\n",
       "      <td>-24.588262</td>\n",
       "      <td>...</td>\n",
       "      <td>-22.797604</td>\n",
       "      <td>-8.887017</td>\n",
       "      <td>-19.254328</td>\n",
       "      <td>-2.028024</td>\n",
       "      <td>-4.781606</td>\n",
       "      <td>-1.152671</td>\n",
       "      <td>-7.263482</td>\n",
       "      <td>-1.869290</td>\n",
       "      <td>0.000000</td>\n",
       "      <td>1.0</td>\n",
       "    </tr>\n",
       "    <tr>\n",
       "      <th>25%</th>\n",
       "      <td>-6.036063</td>\n",
       "      <td>1.188226</td>\n",
       "      <td>-8.643489</td>\n",
       "      <td>2.373050</td>\n",
       "      <td>-4.792835</td>\n",
       "      <td>-2.501511</td>\n",
       "      <td>-7.965295</td>\n",
       "      <td>-0.195336</td>\n",
       "      <td>-3.872383</td>\n",
       "      <td>-7.756698</td>\n",
       "      <td>...</td>\n",
       "      <td>0.041787</td>\n",
       "      <td>-0.533764</td>\n",
       "      <td>-0.342175</td>\n",
       "      <td>-0.436809</td>\n",
       "      <td>-0.314348</td>\n",
       "      <td>-0.259416</td>\n",
       "      <td>-0.020025</td>\n",
       "      <td>-0.108868</td>\n",
       "      <td>1.000000</td>\n",
       "      <td>1.0</td>\n",
       "    </tr>\n",
       "    <tr>\n",
       "      <th>50%</th>\n",
       "      <td>-2.342497</td>\n",
       "      <td>2.717869</td>\n",
       "      <td>-5.075257</td>\n",
       "      <td>4.177147</td>\n",
       "      <td>-1.522962</td>\n",
       "      <td>-1.424616</td>\n",
       "      <td>-3.034402</td>\n",
       "      <td>0.621508</td>\n",
       "      <td>-2.208768</td>\n",
       "      <td>-4.578825</td>\n",
       "      <td>...</td>\n",
       "      <td>0.592146</td>\n",
       "      <td>0.048434</td>\n",
       "      <td>-0.073135</td>\n",
       "      <td>-0.060795</td>\n",
       "      <td>0.088371</td>\n",
       "      <td>0.004321</td>\n",
       "      <td>0.394926</td>\n",
       "      <td>0.146344</td>\n",
       "      <td>9.250000</td>\n",
       "      <td>1.0</td>\n",
       "    </tr>\n",
       "    <tr>\n",
       "      <th>75%</th>\n",
       "      <td>-0.419200</td>\n",
       "      <td>4.971257</td>\n",
       "      <td>-2.276185</td>\n",
       "      <td>6.348729</td>\n",
       "      <td>0.214562</td>\n",
       "      <td>-0.413216</td>\n",
       "      <td>-0.945954</td>\n",
       "      <td>1.764879</td>\n",
       "      <td>-0.787850</td>\n",
       "      <td>-2.614184</td>\n",
       "      <td>...</td>\n",
       "      <td>1.244611</td>\n",
       "      <td>0.617474</td>\n",
       "      <td>0.308378</td>\n",
       "      <td>0.285328</td>\n",
       "      <td>0.456515</td>\n",
       "      <td>0.396733</td>\n",
       "      <td>0.826029</td>\n",
       "      <td>0.381152</td>\n",
       "      <td>105.890000</td>\n",
       "      <td>1.0</td>\n",
       "    </tr>\n",
       "    <tr>\n",
       "      <th>max</th>\n",
       "      <td>2.132386</td>\n",
       "      <td>22.057729</td>\n",
       "      <td>2.250210</td>\n",
       "      <td>12.114672</td>\n",
       "      <td>11.095089</td>\n",
       "      <td>6.474115</td>\n",
       "      <td>5.802537</td>\n",
       "      <td>20.007208</td>\n",
       "      <td>3.353525</td>\n",
       "      <td>4.031435</td>\n",
       "      <td>...</td>\n",
       "      <td>27.202839</td>\n",
       "      <td>8.361985</td>\n",
       "      <td>5.466230</td>\n",
       "      <td>1.091435</td>\n",
       "      <td>2.208209</td>\n",
       "      <td>2.745261</td>\n",
       "      <td>3.052358</td>\n",
       "      <td>1.779364</td>\n",
       "      <td>2125.870000</td>\n",
       "      <td>1.0</td>\n",
       "    </tr>\n",
       "  </tbody>\n",
       "</table>\n",
       "<p>8 rows × 30 columns</p>\n",
       "</div>"
      ],
      "text/plain": [
       "               V1          V2          V3          V4          V5          V6  \\\n",
       "count  492.000000  492.000000  492.000000  492.000000  492.000000  492.000000   \n",
       "mean    -4.771948    3.623778   -7.033281    4.542029   -3.151225   -1.397737   \n",
       "std      6.783687    4.291216    7.110937    2.873318    5.372468    1.858124   \n",
       "min    -30.552380   -8.402154  -31.103685   -1.313275  -22.105532   -6.406267   \n",
       "25%     -6.036063    1.188226   -8.643489    2.373050   -4.792835   -2.501511   \n",
       "50%     -2.342497    2.717869   -5.075257    4.177147   -1.522962   -1.424616   \n",
       "75%     -0.419200    4.971257   -2.276185    6.348729    0.214562   -0.413216   \n",
       "max      2.132386   22.057729    2.250210   12.114672   11.095089    6.474115   \n",
       "\n",
       "               V7          V8          V9         V10  ...         V21  \\\n",
       "count  492.000000  492.000000  492.000000  492.000000  ...  492.000000   \n",
       "mean    -5.568731    0.570636   -2.581123   -5.676883  ...    0.713588   \n",
       "std      7.206773    6.797831    2.500896    4.897341  ...    3.869304   \n",
       "min    -43.557242  -41.044261  -13.434066  -24.588262  ...  -22.797604   \n",
       "25%     -7.965295   -0.195336   -3.872383   -7.756698  ...    0.041787   \n",
       "50%     -3.034402    0.621508   -2.208768   -4.578825  ...    0.592146   \n",
       "75%     -0.945954    1.764879   -0.787850   -2.614184  ...    1.244611   \n",
       "max      5.802537   20.007208    3.353525    4.031435  ...   27.202839   \n",
       "\n",
       "              V22         V23         V24         V25         V26         V27  \\\n",
       "count  492.000000  492.000000  492.000000  492.000000  492.000000  492.000000   \n",
       "mean     0.014049   -0.040308   -0.105130    0.041449    0.051648    0.170575   \n",
       "std      1.494602    1.579642    0.515577    0.797205    0.471679    1.376766   \n",
       "min     -8.887017  -19.254328   -2.028024   -4.781606   -1.152671   -7.263482   \n",
       "25%     -0.533764   -0.342175   -0.436809   -0.314348   -0.259416   -0.020025   \n",
       "50%      0.048434   -0.073135   -0.060795    0.088371    0.004321    0.394926   \n",
       "75%      0.617474    0.308378    0.285328    0.456515    0.396733    0.826029   \n",
       "max      8.361985    5.466230    1.091435    2.208209    2.745261    3.052358   \n",
       "\n",
       "              V28       Amount  Class  \n",
       "count  492.000000   492.000000  492.0  \n",
       "mean     0.075667   122.211321    1.0  \n",
       "std      0.547291   256.683288    0.0  \n",
       "min     -1.869290     0.000000    1.0  \n",
       "25%     -0.108868     1.000000    1.0  \n",
       "50%      0.146344     9.250000    1.0  \n",
       "75%      0.381152   105.890000    1.0  \n",
       "max      1.779364  2125.870000    1.0  \n",
       "\n",
       "[8 rows x 30 columns]"
      ]
     },
     "execution_count": 190,
     "metadata": {},
     "output_type": "execute_result"
    }
   ],
   "source": [
    "fraudulent_records.describe()"
   ]
  },
  {
   "cell_type": "code",
   "execution_count": 191,
   "metadata": {},
   "outputs": [
    {
     "data": {
      "text/html": [
       "<div>\n",
       "<style scoped>\n",
       "    .dataframe tbody tr th:only-of-type {\n",
       "        vertical-align: middle;\n",
       "    }\n",
       "\n",
       "    .dataframe tbody tr th {\n",
       "        vertical-align: top;\n",
       "    }\n",
       "\n",
       "    .dataframe thead th {\n",
       "        text-align: right;\n",
       "    }\n",
       "</style>\n",
       "<table border=\"1\" class=\"dataframe\">\n",
       "  <thead>\n",
       "    <tr style=\"text-align: right;\">\n",
       "      <th></th>\n",
       "      <th>V1</th>\n",
       "      <th>V2</th>\n",
       "      <th>V3</th>\n",
       "      <th>V4</th>\n",
       "      <th>V5</th>\n",
       "      <th>V6</th>\n",
       "      <th>V7</th>\n",
       "      <th>V8</th>\n",
       "      <th>V9</th>\n",
       "      <th>V10</th>\n",
       "      <th>...</th>\n",
       "      <th>V21</th>\n",
       "      <th>V22</th>\n",
       "      <th>V23</th>\n",
       "      <th>V24</th>\n",
       "      <th>V25</th>\n",
       "      <th>V26</th>\n",
       "      <th>V27</th>\n",
       "      <th>V28</th>\n",
       "      <th>Amount</th>\n",
       "      <th>Class</th>\n",
       "    </tr>\n",
       "  </thead>\n",
       "  <tbody>\n",
       "    <tr>\n",
       "      <th>count</th>\n",
       "      <td>284315.000000</td>\n",
       "      <td>284315.000000</td>\n",
       "      <td>284315.000000</td>\n",
       "      <td>284315.000000</td>\n",
       "      <td>284315.000000</td>\n",
       "      <td>284315.000000</td>\n",
       "      <td>284315.000000</td>\n",
       "      <td>284315.000000</td>\n",
       "      <td>284315.000000</td>\n",
       "      <td>284315.000000</td>\n",
       "      <td>...</td>\n",
       "      <td>284315.000000</td>\n",
       "      <td>284315.000000</td>\n",
       "      <td>284315.000000</td>\n",
       "      <td>284315.000000</td>\n",
       "      <td>284315.000000</td>\n",
       "      <td>284315.000000</td>\n",
       "      <td>284315.000000</td>\n",
       "      <td>284315.000000</td>\n",
       "      <td>284315.000000</td>\n",
       "      <td>284315.0</td>\n",
       "    </tr>\n",
       "    <tr>\n",
       "      <th>mean</th>\n",
       "      <td>0.008258</td>\n",
       "      <td>-0.006271</td>\n",
       "      <td>0.012171</td>\n",
       "      <td>-0.007860</td>\n",
       "      <td>0.005453</td>\n",
       "      <td>0.002419</td>\n",
       "      <td>0.009637</td>\n",
       "      <td>-0.000987</td>\n",
       "      <td>0.004467</td>\n",
       "      <td>0.009824</td>\n",
       "      <td>...</td>\n",
       "      <td>-0.001235</td>\n",
       "      <td>-0.000024</td>\n",
       "      <td>0.000070</td>\n",
       "      <td>0.000182</td>\n",
       "      <td>-0.000072</td>\n",
       "      <td>-0.000089</td>\n",
       "      <td>-0.000295</td>\n",
       "      <td>-0.000131</td>\n",
       "      <td>88.291022</td>\n",
       "      <td>0.0</td>\n",
       "    </tr>\n",
       "    <tr>\n",
       "      <th>std</th>\n",
       "      <td>1.929814</td>\n",
       "      <td>1.636146</td>\n",
       "      <td>1.459429</td>\n",
       "      <td>1.399333</td>\n",
       "      <td>1.356952</td>\n",
       "      <td>1.329913</td>\n",
       "      <td>1.178812</td>\n",
       "      <td>1.161283</td>\n",
       "      <td>1.089372</td>\n",
       "      <td>1.044204</td>\n",
       "      <td>...</td>\n",
       "      <td>0.716743</td>\n",
       "      <td>0.723668</td>\n",
       "      <td>0.621541</td>\n",
       "      <td>0.605776</td>\n",
       "      <td>0.520673</td>\n",
       "      <td>0.482241</td>\n",
       "      <td>0.399847</td>\n",
       "      <td>0.329570</td>\n",
       "      <td>250.105092</td>\n",
       "      <td>0.0</td>\n",
       "    </tr>\n",
       "    <tr>\n",
       "      <th>min</th>\n",
       "      <td>-56.407510</td>\n",
       "      <td>-72.715728</td>\n",
       "      <td>-48.325589</td>\n",
       "      <td>-5.683171</td>\n",
       "      <td>-113.743307</td>\n",
       "      <td>-26.160506</td>\n",
       "      <td>-31.764946</td>\n",
       "      <td>-73.216718</td>\n",
       "      <td>-6.290730</td>\n",
       "      <td>-14.741096</td>\n",
       "      <td>...</td>\n",
       "      <td>-34.830382</td>\n",
       "      <td>-10.933144</td>\n",
       "      <td>-44.807735</td>\n",
       "      <td>-2.836627</td>\n",
       "      <td>-10.295397</td>\n",
       "      <td>-2.604551</td>\n",
       "      <td>-22.565679</td>\n",
       "      <td>-15.430084</td>\n",
       "      <td>0.000000</td>\n",
       "      <td>0.0</td>\n",
       "    </tr>\n",
       "    <tr>\n",
       "      <th>25%</th>\n",
       "      <td>-0.917544</td>\n",
       "      <td>-0.599473</td>\n",
       "      <td>-0.884541</td>\n",
       "      <td>-0.850077</td>\n",
       "      <td>-0.689398</td>\n",
       "      <td>-0.766847</td>\n",
       "      <td>-0.551442</td>\n",
       "      <td>-0.208633</td>\n",
       "      <td>-0.640412</td>\n",
       "      <td>-0.532880</td>\n",
       "      <td>...</td>\n",
       "      <td>-0.228509</td>\n",
       "      <td>-0.542403</td>\n",
       "      <td>-0.161702</td>\n",
       "      <td>-0.354425</td>\n",
       "      <td>-0.317145</td>\n",
       "      <td>-0.327074</td>\n",
       "      <td>-0.070852</td>\n",
       "      <td>-0.052950</td>\n",
       "      <td>5.650000</td>\n",
       "      <td>0.0</td>\n",
       "    </tr>\n",
       "    <tr>\n",
       "      <th>50%</th>\n",
       "      <td>0.020023</td>\n",
       "      <td>0.064070</td>\n",
       "      <td>0.182158</td>\n",
       "      <td>-0.022405</td>\n",
       "      <td>-0.053457</td>\n",
       "      <td>-0.273123</td>\n",
       "      <td>0.041138</td>\n",
       "      <td>0.022041</td>\n",
       "      <td>-0.049964</td>\n",
       "      <td>-0.091872</td>\n",
       "      <td>...</td>\n",
       "      <td>-0.029821</td>\n",
       "      <td>0.006736</td>\n",
       "      <td>-0.011147</td>\n",
       "      <td>0.041082</td>\n",
       "      <td>0.016417</td>\n",
       "      <td>-0.052227</td>\n",
       "      <td>0.001230</td>\n",
       "      <td>0.011199</td>\n",
       "      <td>22.000000</td>\n",
       "      <td>0.0</td>\n",
       "    </tr>\n",
       "    <tr>\n",
       "      <th>75%</th>\n",
       "      <td>1.316218</td>\n",
       "      <td>0.800446</td>\n",
       "      <td>1.028372</td>\n",
       "      <td>0.737624</td>\n",
       "      <td>0.612181</td>\n",
       "      <td>0.399619</td>\n",
       "      <td>0.571019</td>\n",
       "      <td>0.326200</td>\n",
       "      <td>0.598230</td>\n",
       "      <td>0.455135</td>\n",
       "      <td>...</td>\n",
       "      <td>0.185626</td>\n",
       "      <td>0.528407</td>\n",
       "      <td>0.147522</td>\n",
       "      <td>0.439869</td>\n",
       "      <td>0.350594</td>\n",
       "      <td>0.240671</td>\n",
       "      <td>0.090573</td>\n",
       "      <td>0.077962</td>\n",
       "      <td>77.050000</td>\n",
       "      <td>0.0</td>\n",
       "    </tr>\n",
       "    <tr>\n",
       "      <th>max</th>\n",
       "      <td>2.454930</td>\n",
       "      <td>18.902453</td>\n",
       "      <td>9.382558</td>\n",
       "      <td>16.875344</td>\n",
       "      <td>34.801666</td>\n",
       "      <td>73.301626</td>\n",
       "      <td>120.589494</td>\n",
       "      <td>18.709255</td>\n",
       "      <td>15.594995</td>\n",
       "      <td>23.745136</td>\n",
       "      <td>...</td>\n",
       "      <td>22.614889</td>\n",
       "      <td>10.503090</td>\n",
       "      <td>22.528412</td>\n",
       "      <td>4.584549</td>\n",
       "      <td>7.519589</td>\n",
       "      <td>3.517346</td>\n",
       "      <td>31.612198</td>\n",
       "      <td>33.847808</td>\n",
       "      <td>25691.160000</td>\n",
       "      <td>0.0</td>\n",
       "    </tr>\n",
       "  </tbody>\n",
       "</table>\n",
       "<p>8 rows × 30 columns</p>\n",
       "</div>"
      ],
      "text/plain": [
       "                  V1             V2             V3             V4  \\\n",
       "count  284315.000000  284315.000000  284315.000000  284315.000000   \n",
       "mean        0.008258      -0.006271       0.012171      -0.007860   \n",
       "std         1.929814       1.636146       1.459429       1.399333   \n",
       "min       -56.407510     -72.715728     -48.325589      -5.683171   \n",
       "25%        -0.917544      -0.599473      -0.884541      -0.850077   \n",
       "50%         0.020023       0.064070       0.182158      -0.022405   \n",
       "75%         1.316218       0.800446       1.028372       0.737624   \n",
       "max         2.454930      18.902453       9.382558      16.875344   \n",
       "\n",
       "                  V5             V6             V7             V8  \\\n",
       "count  284315.000000  284315.000000  284315.000000  284315.000000   \n",
       "mean        0.005453       0.002419       0.009637      -0.000987   \n",
       "std         1.356952       1.329913       1.178812       1.161283   \n",
       "min      -113.743307     -26.160506     -31.764946     -73.216718   \n",
       "25%        -0.689398      -0.766847      -0.551442      -0.208633   \n",
       "50%        -0.053457      -0.273123       0.041138       0.022041   \n",
       "75%         0.612181       0.399619       0.571019       0.326200   \n",
       "max        34.801666      73.301626     120.589494      18.709255   \n",
       "\n",
       "                  V9            V10  ...            V21            V22  \\\n",
       "count  284315.000000  284315.000000  ...  284315.000000  284315.000000   \n",
       "mean        0.004467       0.009824  ...      -0.001235      -0.000024   \n",
       "std         1.089372       1.044204  ...       0.716743       0.723668   \n",
       "min        -6.290730     -14.741096  ...     -34.830382     -10.933144   \n",
       "25%        -0.640412      -0.532880  ...      -0.228509      -0.542403   \n",
       "50%        -0.049964      -0.091872  ...      -0.029821       0.006736   \n",
       "75%         0.598230       0.455135  ...       0.185626       0.528407   \n",
       "max        15.594995      23.745136  ...      22.614889      10.503090   \n",
       "\n",
       "                 V23            V24            V25            V26  \\\n",
       "count  284315.000000  284315.000000  284315.000000  284315.000000   \n",
       "mean        0.000070       0.000182      -0.000072      -0.000089   \n",
       "std         0.621541       0.605776       0.520673       0.482241   \n",
       "min       -44.807735      -2.836627     -10.295397      -2.604551   \n",
       "25%        -0.161702      -0.354425      -0.317145      -0.327074   \n",
       "50%        -0.011147       0.041082       0.016417      -0.052227   \n",
       "75%         0.147522       0.439869       0.350594       0.240671   \n",
       "max        22.528412       4.584549       7.519589       3.517346   \n",
       "\n",
       "                 V27            V28         Amount     Class  \n",
       "count  284315.000000  284315.000000  284315.000000  284315.0  \n",
       "mean       -0.000295      -0.000131      88.291022       0.0  \n",
       "std         0.399847       0.329570     250.105092       0.0  \n",
       "min       -22.565679     -15.430084       0.000000       0.0  \n",
       "25%        -0.070852      -0.052950       5.650000       0.0  \n",
       "50%         0.001230       0.011199      22.000000       0.0  \n",
       "75%         0.090573       0.077962      77.050000       0.0  \n",
       "max        31.612198      33.847808   25691.160000       0.0  \n",
       "\n",
       "[8 rows x 30 columns]"
      ]
     },
     "execution_count": 191,
     "metadata": {},
     "output_type": "execute_result"
    }
   ],
   "source": [
    "non_fraudulent_records.describe()"
   ]
  },
  {
   "cell_type": "markdown",
   "metadata": {},
   "source": []
  },
  {
   "cell_type": "markdown",
   "metadata": {},
   "source": [
    "Classification algorithms are supervised learning algorithms. The dataset is divided into learning parameters and response variables. Learning parameters (features) are the independent variables and response variables are the dependent variables that are influenced by the features."
   ]
  },
  {
   "cell_type": "markdown",
   "metadata": {},
   "source": [
    "# Preparing the training set and test set"
   ]
  },
  {
   "cell_type": "markdown",
   "metadata": {},
   "source": [
    "Separate the independent and dependent variables.\n",
    "<br>\n",
    "X - Independent features\n",
    "<br>\n",
    "y - Dependent (response) variable"
   ]
  },
  {
   "cell_type": "code",
   "execution_count": 192,
   "metadata": {},
   "outputs": [],
   "source": [
    "X = df.drop('Class', axis = 1).values\n",
    "y = df['Class'].values"
   ]
  },
  {
   "cell_type": "markdown",
   "metadata": {},
   "source": [
    "As seen previously, the dataset is highly imbalanced. The training and test sets need to be stratified in order to ensure that the training and test sets have same proportion of records associated to each label. Random division of an imbalanced dataset without stratification may result in having most of the training records associated with one label and the resultant model might not generalize well on our test data.\n",
    "<br><br>\n",
    "So, we make sure the split is stratified to get same proportion of records from each class in train and test set. This is achieved using the 'stratify' argument in the train_test_split() funtion.\n"
   ]
  },
  {
   "cell_type": "code",
   "execution_count": 193,
   "metadata": {},
   "outputs": [],
   "source": [
    "X_train, X_test, y_train, y_test = train_test_split(X, y, test_size = 0.2, \n",
    "                                                    random_state = 0, stratify=y)"
   ]
  },
  {
   "cell_type": "code",
   "execution_count": 194,
   "metadata": {},
   "outputs": [
    {
     "data": {
      "text/plain": [
       "(array([0, 1], dtype=int64), array([227451,    394], dtype=int64))"
      ]
     },
     "execution_count": 194,
     "metadata": {},
     "output_type": "execute_result"
    }
   ],
   "source": [
    "np.unique(y_train, return_counts=True)"
   ]
  },
  {
   "cell_type": "code",
   "execution_count": 195,
   "metadata": {},
   "outputs": [
    {
     "data": {
      "text/plain": [
       "(array([0, 1], dtype=int64), array([56864,    98], dtype=int64))"
      ]
     },
     "execution_count": 195,
     "metadata": {},
     "output_type": "execute_result"
    }
   ],
   "source": [
    "np.unique(y_test, return_counts=True)"
   ]
  },
  {
   "cell_type": "code",
   "execution_count": 196,
   "metadata": {},
   "outputs": [
    {
     "data": {
      "text/plain": [
       "0.0017322412299792043"
      ]
     },
     "execution_count": 196,
     "metadata": {},
     "output_type": "execute_result"
    }
   ],
   "source": [
    "394/227451"
   ]
  },
  {
   "cell_type": "code",
   "execution_count": 197,
   "metadata": {},
   "outputs": [
    {
     "data": {
      "text/plain": [
       "0.0017234102419808666"
      ]
     },
     "execution_count": 197,
     "metadata": {},
     "output_type": "execute_result"
    }
   ],
   "source": [
    "98/56864"
   ]
  },
  {
   "cell_type": "markdown",
   "metadata": {},
   "source": [
    "Both train and test sets have 0.17% of the records belonging to the fraudulent category. Now that we have prepared our train and test data, we can 'feed' the training data and train models as desired. The trained model is then used to make predictions on the test data which the model has never 'seen'. The preictions are then used to evaluate against the actual labels in the test set."
   ]
  },
  {
   "cell_type": "markdown",
   "metadata": {},
   "source": [
    "# "
   ]
  },
  {
   "cell_type": "markdown",
   "metadata": {},
   "source": [
    "# Model Implementation"
   ]
  },
  {
   "cell_type": "markdown",
   "metadata": {},
   "source": [
    "With the training and test sets ready, the classifier models are trained and evaluated. Following models are implemented with their default parameters.\n",
    "\n",
    "- Decision Tree Classifier\n",
    "- KNN Classifier\n",
    "- Logistic Regression\n",
    "- Random Forest Classifier\n",
    "\n",
    "In the laster section, a grid search is implemented to tune the hyperparameters and obtain the best parameters by testing on an appropriate evaluation metric. Generally, ensemble methods like Random Forest tends to work well when we have a large dataset, however it might be significantly time consuming in such case. \n",
    "\n",
    "<br>\n",
    "<br>\n",
    "We need to take precision and recall into account to get a reliable metric for evaluation of our models. Accuracy is not reliable when the dataset is imbalanced. \n",
    "<br>\n",
    "<br>\n",
    "F1-Score is used as the metric for evaluation as it takes precision and recall into account. F1-Score is the harmonic mean of precision and recall."
   ]
  },
  {
   "cell_type": "markdown",
   "metadata": {},
   "source": [
    "## Decision Tree Classifier"
   ]
  },
  {
   "cell_type": "code",
   "execution_count": 198,
   "metadata": {},
   "outputs": [],
   "source": [
    "# Decision Tree Classifier\n",
    "decision_tree_cls = DecisionTreeClassifier(max_depth = 4, \n",
    "                                           criterion = 'entropy')\n",
    "decision_tree_cls.fit(X_train, y_train)\n",
    "decision_tree_pred = decision_tree_cls.predict(X_test)"
   ]
  },
  {
   "cell_type": "code",
   "execution_count": 199,
   "metadata": {},
   "outputs": [
    {
     "name": "stdout",
     "output_type": "stream",
     "text": [
      "Accuracy obtained by decision tree classifier : 99.928 %\n"
     ]
    }
   ],
   "source": [
    "print('Accuracy obtained by decision tree classifier :', \n",
    "      round(accuracy_score(y_test, decision_tree_pred)*100,3), '%')"
   ]
  },
  {
   "cell_type": "code",
   "execution_count": 200,
   "metadata": {},
   "outputs": [
    {
     "name": "stdout",
     "output_type": "stream",
     "text": [
      "F1-score obtained by decision tree classifier : 76.023 %\n"
     ]
    }
   ],
   "source": [
    "print('F1-score obtained by decision tree classifier :', \n",
    "      round(f1_score(y_test, decision_tree_pred)*100,3), '%')"
   ]
  },
  {
   "cell_type": "markdown",
   "metadata": {},
   "source": [
    "## K-Nearest Neighbours Classifier"
   ]
  },
  {
   "cell_type": "code",
   "execution_count": 201,
   "metadata": {},
   "outputs": [],
   "source": [
    "# KNN Classifier\n",
    "n = 5\n",
    "knn_cls = KNeighborsClassifier(n_neighbors = n)\n",
    "knn_cls.fit(X_train, y_train)\n",
    "knn_pred = knn_cls.predict(X_test)"
   ]
  },
  {
   "cell_type": "code",
   "execution_count": 202,
   "metadata": {},
   "outputs": [
    {
     "name": "stdout",
     "output_type": "stream",
     "text": [
      "Accuracy obtained by KNN classifier : 99.923 %\n"
     ]
    }
   ],
   "source": [
    "print('Accuracy obtained by KNN classifier :', \n",
    "      round(accuracy_score(y_test, knn_pred)*100,3), '%')"
   ]
  },
  {
   "cell_type": "code",
   "execution_count": 203,
   "metadata": {},
   "outputs": [
    {
     "name": "stdout",
     "output_type": "stream",
     "text": [
      "F1-score obtained by KNN classifier : 72.5 %\n"
     ]
    }
   ],
   "source": [
    "print('F1-score obtained by KNN classifier :', \n",
    "      round(f1_score(y_test, knn_pred)*100,3), '%')"
   ]
  },
  {
   "cell_type": "markdown",
   "metadata": {},
   "source": [
    "## Logistic Regression"
   ]
  },
  {
   "cell_type": "code",
   "execution_count": 204,
   "metadata": {},
   "outputs": [
    {
     "name": "stderr",
     "output_type": "stream",
     "text": [
      "E:\\Anaconda_Directory\\lib\\site-packages\\sklearn\\linear_model\\_logistic.py:763: ConvergenceWarning: lbfgs failed to converge (status=1):\n",
      "STOP: TOTAL NO. of ITERATIONS REACHED LIMIT.\n",
      "\n",
      "Increase the number of iterations (max_iter) or scale the data as shown in:\n",
      "    https://scikit-learn.org/stable/modules/preprocessing.html\n",
      "Please also refer to the documentation for alternative solver options:\n",
      "    https://scikit-learn.org/stable/modules/linear_model.html#logistic-regression\n",
      "  n_iter_i = _check_optimize_result(\n"
     ]
    }
   ],
   "source": [
    "# Logistic Regression \n",
    "logistic_reg_cls = LogisticRegression()\n",
    "logistic_reg_cls.fit(X_train, y_train)\n",
    "logistic_reg_pred = logistic_reg_cls.predict(X_test)"
   ]
  },
  {
   "cell_type": "code",
   "execution_count": 205,
   "metadata": {},
   "outputs": [
    {
     "data": {
      "text/plain": [
       "0.9991397773954567"
      ]
     },
     "execution_count": 205,
     "metadata": {},
     "output_type": "execute_result"
    }
   ],
   "source": [
    "log_acc=accuracy_score(y_test, logistic_reg_pred)\n",
    "log_acc"
   ]
  },
  {
   "cell_type": "code",
   "execution_count": 206,
   "metadata": {},
   "outputs": [
    {
     "data": {
      "text/plain": [
       "0.703030303030303"
      ]
     },
     "execution_count": 206,
     "metadata": {},
     "output_type": "execute_result"
    }
   ],
   "source": [
    "log_f1=f1_score(y_test, logistic_reg_pred)\n",
    "log_f1"
   ]
  },
  {
   "cell_type": "code",
   "execution_count": 207,
   "metadata": {},
   "outputs": [
    {
     "name": "stdout",
     "output_type": "stream",
     "text": [
      "Accuracy obtained by Logistic Regression : 99.914 %\n"
     ]
    }
   ],
   "source": [
    "print('Accuracy obtained by Logistic Regression :', \n",
    "      round(accuracy_score(y_test, logistic_reg_pred)*100,3), '%')"
   ]
  },
  {
   "cell_type": "code",
   "execution_count": 208,
   "metadata": {},
   "outputs": [
    {
     "name": "stdout",
     "output_type": "stream",
     "text": [
      "F1-score obtained by Logistic Regression : 70.303 %\n"
     ]
    }
   ],
   "source": [
    "print('F1-score obtained by Logistic Regression :', \n",
    "      round(f1_score(y_test, logistic_reg_pred)*100,3), '%')"
   ]
  },
  {
   "cell_type": "markdown",
   "metadata": {},
   "source": [
    "## Random Forest Classifier"
   ]
  },
  {
   "cell_type": "code",
   "execution_count": 209,
   "metadata": {},
   "outputs": [],
   "source": [
    "# Random Forest Classifier\n",
    "random_forest_cls = RandomForestClassifier(max_depth = 4)\n",
    "random_forest_cls.fit(X_train, y_train)\n",
    "random_forest__pred = random_forest_cls.predict(X_test)"
   ]
  },
  {
   "cell_type": "code",
   "execution_count": 210,
   "metadata": {},
   "outputs": [
    {
     "name": "stdout",
     "output_type": "stream",
     "text": [
      "Accuracy obtained by Random Forest Classifier : 99.921 %\n"
     ]
    }
   ],
   "source": [
    "print('Accuracy obtained by Random Forest Classifier :', \n",
    "      round(accuracy_score(y_test, random_forest__pred)*100,3), '%')"
   ]
  },
  {
   "cell_type": "code",
   "execution_count": 211,
   "metadata": {},
   "outputs": [
    {
     "name": "stdout",
     "output_type": "stream",
     "text": [
      "F1-score obtained by Random Forest Classifier : 72.393 %\n"
     ]
    }
   ],
   "source": [
    "print('F1-score obtained by Random Forest Classifier :', \n",
    "      round(f1_score(y_test, random_forest__pred)*100,3), '%')"
   ]
  },
  {
   "cell_type": "markdown",
   "metadata": {},
   "source": [
    "In the models above, although the accuracy obtained is very high (more than 99%), we must note that 99.83% of our data is constituted by a records associated with just one label. So, in the worst case of our model performance, even if it predicts all the records as non-fraudulent, we will still get an accuracy of 99.83%, but that would not be a good predictive model.\n",
    "<br>\n",
    "<br>\n",
    "To evaluate our model keeping this in mind, precision and recall are considered in evaluation. \n",
    "<br>\n",
    "<br>\n",
    "In our case, precision gives a quantified measure of number of fraudulent labelled predictions that were actually fraudulent. Recall gives a quantified measure of number of correct fraudulent predictions out of all the actually fraudulent predictions.\n",
    "<br>\n",
    "<br>\n",
    "$$Precision = \\frac{TP}{TP + FP}$$\n",
    "\n",
    "$$Recall = \\frac{TP}{TP + FN}$$\n",
    "\n",
    "Where, <br> TP : True Positives<br>\n",
    "        FP : False Positives<br>\n",
    "        FN : False Negatives\n",
    "        \n",
    "<br>\n",
    "<br>\n",
    "There is a trade-off between precision and recall. A high precision will result in a low recall and vice-versa. F1-score is a single metric that combines both precision and recall. \n",
    "<br><br>\n",
    "$$F1 = \\frac{2*Precision*Recall}{Precision + Recall}$$\n"
   ]
  },
  {
   "cell_type": "markdown",
   "metadata": {},
   "source": [
    "# "
   ]
  },
  {
   "cell_type": "markdown",
   "metadata": {},
   "source": [
    "## Grid Search to find best hyperparameters for the models"
   ]
  },
  {
   "cell_type": "markdown",
   "metadata": {},
   "source": [
    "We make use of F1-score as the evaluation metric. Since we have binary targets, in grid search, we set the parameter 'scoring' to 'f1' in order to find the best model in terms of resultant f1-score rather than accuracy. \n",
    "<br><br>\n",
    "We implement Grid Search  on Decision Trees, KNN and Random Forest classifiers where we have more parameters to tune than Logistic Regression and better results can be obtained."
   ]
  },
  {
   "cell_type": "markdown",
   "metadata": {},
   "source": [
    "## Grid search on Decision Tree Classifier"
   ]
  },
  {
   "cell_type": "code",
   "execution_count": 212,
   "metadata": {},
   "outputs": [
    {
     "data": {
      "text/plain": [
       "GridSearchCV(estimator=DecisionTreeClassifier(),\n",
       "             param_grid={'criterion': ['entropy'], 'max_depth': [4, 6],\n",
       "                         'min_samples_split': [2, 4]},\n",
       "             scoring='f1')"
      ]
     },
     "execution_count": 212,
     "metadata": {},
     "output_type": "execute_result"
    }
   ],
   "source": [
    "dt=DecisionTreeClassifier()\n",
    "\n",
    "dt_grid_params={\n",
    "    'criterion':['entropy'],\n",
    "    'max_depth':[4, 6],\n",
    "    'min_samples_split':[2, 4]\n",
    "}\n",
    "\n",
    "dt_grid = GridSearchCV(dt, dt_grid_params, scoring='f1')\n",
    "dt_grid.fit(X_train, y_train)"
   ]
  },
  {
   "cell_type": "code",
   "execution_count": 213,
   "metadata": {},
   "outputs": [
    {
     "name": "stdout",
     "output_type": "stream",
     "text": [
      "Best parameters : {'criterion': 'entropy', 'max_depth': 6, 'min_samples_split': 4}\n"
     ]
    }
   ],
   "source": [
    "print('Best parameters :', dt_grid.best_params_)\n",
    "dt_grid_pred=dt_grid.predict(X_test)"
   ]
  },
  {
   "cell_type": "code",
   "execution_count": 214,
   "metadata": {},
   "outputs": [
    {
     "data": {
      "text/plain": [
       "0.8089887640449438"
      ]
     },
     "execution_count": 214,
     "metadata": {},
     "output_type": "execute_result"
    }
   ],
   "source": [
    "dt_f1=f1_score(y_test, dt_grid_pred)\n",
    "dt_f1"
   ]
  },
  {
   "cell_type": "code",
   "execution_count": 215,
   "metadata": {},
   "outputs": [
    {
     "data": {
      "text/plain": [
       "0.999403110845827"
      ]
     },
     "execution_count": 215,
     "metadata": {},
     "output_type": "execute_result"
    }
   ],
   "source": [
    "dt_acc=accuracy_score(y_test, dt_grid_pred)\n",
    "dt_acc"
   ]
  },
  {
   "cell_type": "code",
   "execution_count": 216,
   "metadata": {},
   "outputs": [
    {
     "data": {
      "text/plain": [
       "array([[56856,     8],\n",
       "       [   26,    72]], dtype=int64)"
      ]
     },
     "execution_count": 216,
     "metadata": {},
     "output_type": "execute_result"
    }
   ],
   "source": [
    "dt_mat = confusion_matrix(y_test, dt_grid_pred, labels = [0, 1])\n",
    "dt_mat"
   ]
  },
  {
   "cell_type": "code",
   "execution_count": 217,
   "metadata": {},
   "outputs": [
    {
     "name": "stdout",
     "output_type": "stream",
     "text": [
      "Confusion Matrix for Decision Trees Classifier :\n"
     ]
    },
    {
     "data": {
      "image/png": "[encoded data removed]",
      "text/plain": [
       "<Figure size 576x360 with 2 Axes>"
      ]
     },
     "metadata": {
      "needs_background": "light"
     },
     "output_type": "display_data"
    }
   ],
   "source": [
    "print('Confusion Matrix for Decision Trees Classifier :')\n",
    "plt.figure(figsize=(8,5))\n",
    "dt_mat_df=pd.DataFrame(dt_mat, columns=['Predicted_Non_Fraud', 'Predicted_Fraud'], \n",
    "             index=['Actual_Non_Fraud', 'Actual_Fraud'])\n",
    "sns.heatmap(dt_mat_df, annot=True, fmt='g')\n",
    "plt.savefig('DecisionTree_ConfusionMatrix.png')"
   ]
  },
  {
   "cell_type": "markdown",
   "metadata": {},
   "source": [
    "## Grid search on K-Nearest Neighbours Classifier"
   ]
  },
  {
   "cell_type": "code",
   "execution_count": 218,
   "metadata": {},
   "outputs": [
    {
     "data": {
      "text/plain": [
       "GridSearchCV(estimator=KNeighborsClassifier(),\n",
       "             param_grid={'n_neighbors': [2, 5, 6]}, scoring='f1')"
      ]
     },
     "execution_count": 218,
     "metadata": {},
     "output_type": "execute_result"
    }
   ],
   "source": [
    "knn_classifier=KNeighborsClassifier()\n",
    "\n",
    "knn_grid_params={\n",
    "    'n_neighbors':[2, 5, 6]\n",
    "}\n",
    "\n",
    "knn_grid = GridSearchCV(knn_classifier, knn_grid_params, scoring='f1')\n",
    "knn_grid.fit(X_train, y_train)"
   ]
  },
  {
   "cell_type": "code",
   "execution_count": 219,
   "metadata": {},
   "outputs": [
    {
     "name": "stdout",
     "output_type": "stream",
     "text": [
      "Best parameters : {'n_neighbors': 5}\n"
     ]
    }
   ],
   "source": [
    "print('Best parameters :', knn_grid.best_params_)\n",
    "knn_grid_pred=knn_grid.predict(X_test)"
   ]
  },
  {
   "cell_type": "code",
   "execution_count": 220,
   "metadata": {},
   "outputs": [
    {
     "data": {
      "text/plain": [
       "0.7249999999999999"
      ]
     },
     "execution_count": 220,
     "metadata": {},
     "output_type": "execute_result"
    }
   ],
   "source": [
    "knn_f1=f1_score(y_test, knn_grid_pred)\n",
    "knn_f1"
   ]
  },
  {
   "cell_type": "code",
   "execution_count": 221,
   "metadata": {},
   "outputs": [
    {
     "data": {
      "text/plain": [
       "0.9992275552122467"
      ]
     },
     "execution_count": 221,
     "metadata": {},
     "output_type": "execute_result"
    }
   ],
   "source": [
    "knn_acc=accuracy_score(y_test, knn_grid_pred)\n",
    "knn_acc"
   ]
  },
  {
   "cell_type": "code",
   "execution_count": 222,
   "metadata": {},
   "outputs": [
    {
     "data": {
      "text/plain": [
       "array([[56860,     4],\n",
       "       [   40,    58]], dtype=int64)"
      ]
     },
     "execution_count": 222,
     "metadata": {},
     "output_type": "execute_result"
    }
   ],
   "source": [
    "knn_mat = confusion_matrix(y_test, knn_grid_pred, labels = [0, 1])\n",
    "knn_mat"
   ]
  },
  {
   "cell_type": "code",
   "execution_count": 223,
   "metadata": {},
   "outputs": [
    {
     "name": "stdout",
     "output_type": "stream",
     "text": [
      "Confusion Matrix for KNN Classifier :\n"
     ]
    },
    {
     "data": {
      "image/png": "[encoded data removed]",
      "text/plain": [
       "<Figure size 576x360 with 2 Axes>"
      ]
     },
     "metadata": {
      "needs_background": "light"
     },
     "output_type": "display_data"
    }
   ],
   "source": [
    "print('Confusion Matrix for KNN Classifier :')\n",
    "plt.figure(figsize=(8,5))\n",
    "knn_mat_df=pd.DataFrame(knn_mat, columns=['Predicted_Non_Fraud', 'Predicted_Fraud'], \n",
    "             index=['Actual_Non_Fraud', 'Actual_Fraud'])\n",
    "sns.heatmap(knn_mat_df, annot=True, fmt='g')\n",
    "plt.savefig('KNN_ConfusionMatrix.png')"
   ]
  },
  {
   "cell_type": "markdown",
   "metadata": {},
   "source": [
    "## Grid search on Random Forest Classifier"
   ]
  },
  {
   "cell_type": "code",
   "execution_count": 224,
   "metadata": {},
   "outputs": [
    {
     "data": {
      "text/plain": [
       "GridSearchCV(estimator=RandomForestClassifier(),\n",
       "             param_grid={'criterion': ['entropy'], 'max_depth': [12, 16],\n",
       "                         'n_estimators': [100, 150]},\n",
       "             scoring='f1')"
      ]
     },
     "execution_count": 224,
     "metadata": {},
     "output_type": "execute_result"
    }
   ],
   "source": [
    "rf_classifier=RandomForestClassifier()\n",
    "\n",
    "rf_grid_params={\n",
    "    'n_estimators':[100, 150],\n",
    "    'criterion':['entropy'],\n",
    "    'max_depth':[12, 16]\n",
    "}\n",
    "\n",
    "rf_grid = GridSearchCV(rf_classifier, rf_grid_params, scoring='f1')\n",
    "rf_grid.fit(X_train, y_train)"
   ]
  },
  {
   "cell_type": "code",
   "execution_count": 225,
   "metadata": {},
   "outputs": [
    {
     "name": "stdout",
     "output_type": "stream",
     "text": [
      "Best Parameters : {'criterion': 'entropy', 'max_depth': 16, 'n_estimators': 100}\n"
     ]
    }
   ],
   "source": [
    "print('Best Parameters :', rf_grid.best_params_)\n",
    "rf_grid_pred=rf_grid.predict(X_test)"
   ]
  },
  {
   "cell_type": "code",
   "execution_count": 226,
   "metadata": {},
   "outputs": [
    {
     "data": {
      "text/plain": [
       "0.8255813953488371"
      ]
     },
     "execution_count": 226,
     "metadata": {},
     "output_type": "execute_result"
    }
   ],
   "source": [
    "rf_f1=f1_score(y_test, rf_grid_pred)\n",
    "rf_f1"
   ]
  },
  {
   "cell_type": "code",
   "execution_count": 227,
   "metadata": {},
   "outputs": [
    {
     "data": {
      "text/plain": [
       "0.9994733330992591"
      ]
     },
     "execution_count": 227,
     "metadata": {},
     "output_type": "execute_result"
    }
   ],
   "source": [
    "rf_acc=accuracy_score(y_test, rf_grid_pred)\n",
    "rf_acc"
   ]
  },
  {
   "cell_type": "code",
   "execution_count": 228,
   "metadata": {},
   "outputs": [
    {
     "data": {
      "text/plain": [
       "array([[56861,     3],\n",
       "       [   27,    71]], dtype=int64)"
      ]
     },
     "execution_count": 228,
     "metadata": {},
     "output_type": "execute_result"
    }
   ],
   "source": [
    "rf_mat = confusion_matrix(y_test, rf_grid_pred, labels = [0, 1])\n",
    "rf_mat"
   ]
  },
  {
   "cell_type": "code",
   "execution_count": 229,
   "metadata": {},
   "outputs": [
    {
     "name": "stdout",
     "output_type": "stream",
     "text": [
      "Confusion Matrix for Random Forest Classifier :\n"
     ]
    },
    {
     "data": {
      "image/png": "[encoded data removed]",
      "text/plain": [
       "<Figure size 576x360 with 2 Axes>"
      ]
     },
     "metadata": {
      "needs_background": "light"
     },
     "output_type": "display_data"
    }
   ],
   "source": [
    "print('Confusion Matrix for Random Forest Classifier :')\n",
    "plt.figure(figsize=(8,5))\n",
    "rf_mat_df=pd.DataFrame(rf_mat, columns=['Predicted_Non_Fraud', 'Predicted_Fraud'], \n",
    "             index=['Actual_Non_Fraud', 'Actual_Fraud'])\n",
    "sns.heatmap(rf_mat_df, annot=True, fmt='g')\n",
    "plt.savefig('RandomForest_ConfusionMatrix.png')"
   ]
  },
  {
   "cell_type": "markdown",
   "metadata": {},
   "source": [
    "# Results"
   ]
  },
  {
   "cell_type": "markdown",
   "metadata": {},
   "source": [
    "## Choosing the best performing model"
   ]
  },
  {
   "cell_type": "markdown",
   "metadata": {},
   "source": [
    "From the above results, it can be noted that the tuned Random Forest Classifier with certain hyperparameters is the best performing model. The result obtained using decision tree classifier is also acceptable and close to the metric value achieved by the Random Forest Classifier.\n",
    "<br>\n",
    "<br>\n",
    "As stated in the previous section, accuracy is not a reliable metric in this case due to the imbalanced dataset. Best model is the one that obtains best F1-Score on the test set. \n",
    "<br>\n",
    "<br>\n",
    "The parameters of the best model (Random Forest) are as follows:"
   ]
  },
  {
   "cell_type": "code",
   "execution_count": 230,
   "metadata": {},
   "outputs": [
    {
     "name": "stdout",
     "output_type": "stream",
     "text": [
      "Best Parameters for Random Forest Classifier:  {'criterion': 'entropy', 'max_depth': 16, 'n_estimators': 100}\n"
     ]
    }
   ],
   "source": [
    "print('Best Parameters for Random Forest Classifier: ', rf_grid.best_params_)"
   ]
  },
  {
   "cell_type": "code",
   "execution_count": 231,
   "metadata": {},
   "outputs": [
    {
     "name": "stdout",
     "output_type": "stream",
     "text": [
      "The F1-Score obtained by the model on test set : 82.558 %\n"
     ]
    }
   ],
   "source": [
    "print('The F1-Score obtained by the model on test set :', \n",
    "      round(f1_score(y_test, rf_grid.predict(X_test))*100,3), '%')"
   ]
  },
  {
   "cell_type": "code",
   "execution_count": 232,
   "metadata": {},
   "outputs": [],
   "source": [
    "rf_grid_pred=rf_grid.predict(X_test)"
   ]
  },
  {
   "cell_type": "code",
   "execution_count": 233,
   "metadata": {},
   "outputs": [
    {
     "name": "stdout",
     "output_type": "stream",
     "text": [
      "Confusion Matrix Obtained :\n"
     ]
    },
    {
     "data": {
      "text/html": [
       "<div>\n",
       "<style scoped>\n",
       "    .dataframe tbody tr th:only-of-type {\n",
       "        vertical-align: middle;\n",
       "    }\n",
       "\n",
       "    .dataframe tbody tr th {\n",
       "        vertical-align: top;\n",
       "    }\n",
       "\n",
       "    .dataframe thead th {\n",
       "        text-align: right;\n",
       "    }\n",
       "</style>\n",
       "<table border=\"1\" class=\"dataframe\">\n",
       "  <thead>\n",
       "    <tr style=\"text-align: right;\">\n",
       "      <th></th>\n",
       "      <th>Predicted_Non_Fraud</th>\n",
       "      <th>Predicted_Fraud</th>\n",
       "    </tr>\n",
       "  </thead>\n",
       "  <tbody>\n",
       "    <tr>\n",
       "      <th>Actual_Non_Fraud</th>\n",
       "      <td>56861</td>\n",
       "      <td>3</td>\n",
       "    </tr>\n",
       "    <tr>\n",
       "      <th>Actual_Fraud</th>\n",
       "      <td>27</td>\n",
       "      <td>71</td>\n",
       "    </tr>\n",
       "  </tbody>\n",
       "</table>\n",
       "</div>"
      ],
      "text/plain": [
       "                  Predicted_Non_Fraud  Predicted_Fraud\n",
       "Actual_Non_Fraud                56861                3\n",
       "Actual_Fraud                       27               71"
      ]
     },
     "execution_count": 233,
     "metadata": {},
     "output_type": "execute_result"
    }
   ],
   "source": [
    "print('Confusion Matrix Obtained :')\n",
    "conf_mat=pd.DataFrame(confusion_matrix(y_test, rf_grid_pred), \n",
    "             columns=['Predicted_Non_Fraud', 'Predicted_Fraud'], \n",
    "             index=['Actual_Non_Fraud', 'Actual_Fraud'])\n",
    "conf_mat"
   ]
  },
  {
   "cell_type": "code",
   "execution_count": 234,
   "metadata": {},
   "outputs": [
    {
     "name": "stdout",
     "output_type": "stream",
     "text": [
      "Confusion Matrix for Random Forest Classifier :\n"
     ]
    },
    {
     "data": {
      "image/png": "[encoded data removed]",
      "text/plain": [
       "<Figure size 576x360 with 2 Axes>"
      ]
     },
     "metadata": {
      "needs_background": "light"
     },
     "output_type": "display_data"
    }
   ],
   "source": [
    "print('Confusion Matrix for Random Forest Classifier :')\n",
    "plt.figure(figsize=(8,5))\n",
    "rf_mat_df=pd.DataFrame(rf_mat, columns=['Predicted_Non_Fraud', 'Predicted_Fraud'], \n",
    "             index=['Actual_Non_Fraud', 'Actual_Fraud'])\n",
    "sns.heatmap(rf_mat_df, annot=True, fmt='g')\n",
    "plt.savefig('RandomForest_ConfusionMatrix.png')"
   ]
  },
  {
   "cell_type": "markdown",
   "metadata": {},
   "source": [
    "Some of the predicted labels against actual labels are as follows."
   ]
  },
  {
   "cell_type": "code",
   "execution_count": 235,
   "metadata": {},
   "outputs": [
    {
     "name": "stdout",
     "output_type": "stream",
     "text": [
      "Predicted : [0 0 1 0 0]\n",
      "Actual Labels : [0 0 1 0 0]\n"
     ]
    }
   ],
   "source": [
    "print('Predicted :',rf_grid_pred[1845:1850])\n",
    "print('Actual Labels :',y_test[1845:1850])"
   ]
  },
  {
   "cell_type": "markdown",
   "metadata": {},
   "source": [
    "To predict the result on a single transaction, the array of parameters of the transaction need to be passed in the form of a 2-D array to the predict() method of our model.\n",
    "<br>\n",
    "<br>\n",
    "The predict() method takes 2-D array as the argument."
   ]
  },
  {
   "cell_type": "code",
   "execution_count": 236,
   "metadata": {},
   "outputs": [
    {
     "name": "stdout",
     "output_type": "stream",
     "text": [
      "True Category : 0\n",
      "Predicted Category : [0]\n"
     ]
    }
   ],
   "source": [
    "print('True Category :', y_test[0])\n",
    "print('Predicted Category :', rf_grid.predict([X_test[0]]))"
   ]
  },
  {
   "cell_type": "code",
   "execution_count": 237,
   "metadata": {},
   "outputs": [
    {
     "name": "stdout",
     "output_type": "stream",
     "text": [
      "True Categories : 0 1\n",
      "Predicted Categories : [0 1]\n"
     ]
    }
   ],
   "source": [
    "print('True Categories :', y_test[5], y_test[1847])\n",
    "print('Predicted Categories :', rf_grid.predict([X_test[5], X_test[1847]]))"
   ]
  },
  {
   "cell_type": "markdown",
   "metadata": {},
   "source": [
    "# Conclusion"
   ]
  },
  {
   "cell_type": "markdown",
   "metadata": {},
   "source": [
    "For this particular problem, random forest classifier was the chosen model as a significantly higher f1-score was obtained when compared to the other algorithms implemented. Random Forest Classifiers generally perform better when the dataset under consideration has a large number of dimensions. Ensemble methods are reliable and generalize better and minimize the chances of overfitting. This was observed in the implementation carried out. \n",
    "<br><br>\n",
    "F1-score of around 83% by Random Forest indicates an acceptable level of performance while the classifier implemented using Decision Trees also performs decently with an F1-score around 80%.\n",
    "<br><br>\n",
    "To summarize, following are the conclusive results obtained."
   ]
  },
  {
   "cell_type": "code",
   "execution_count": 238,
   "metadata": {},
   "outputs": [
    {
     "data": {
      "text/html": [
       "<div>\n",
       "<style scoped>\n",
       "    .dataframe tbody tr th:only-of-type {\n",
       "        vertical-align: middle;\n",
       "    }\n",
       "\n",
       "    .dataframe tbody tr th {\n",
       "        vertical-align: top;\n",
       "    }\n",
       "\n",
       "    .dataframe thead th {\n",
       "        text-align: right;\n",
       "    }\n",
       "</style>\n",
       "<table border=\"1\" class=\"dataframe\">\n",
       "  <thead>\n",
       "    <tr style=\"text-align: right;\">\n",
       "      <th></th>\n",
       "      <th>Highest Accuracy (%)</th>\n",
       "      <th>Highest F1-Score (%)</th>\n",
       "    </tr>\n",
       "    <tr>\n",
       "      <th>Model</th>\n",
       "      <th></th>\n",
       "      <th></th>\n",
       "    </tr>\n",
       "  </thead>\n",
       "  <tbody>\n",
       "    <tr>\n",
       "      <th>Decision Trees</th>\n",
       "      <td>99.940</td>\n",
       "      <td>80.899</td>\n",
       "    </tr>\n",
       "    <tr>\n",
       "      <th>KNN</th>\n",
       "      <td>99.923</td>\n",
       "      <td>72.500</td>\n",
       "    </tr>\n",
       "    <tr>\n",
       "      <th>Logistic Regression</th>\n",
       "      <td>99.914</td>\n",
       "      <td>70.303</td>\n",
       "    </tr>\n",
       "    <tr>\n",
       "      <th>Random Forest</th>\n",
       "      <td>99.947</td>\n",
       "      <td>82.558</td>\n",
       "    </tr>\n",
       "  </tbody>\n",
       "</table>\n",
       "</div>"
      ],
      "text/plain": [
       "                     Highest Accuracy (%)  Highest F1-Score (%)\n",
       "Model                                                          \n",
       "Decision Trees                     99.940                80.899\n",
       "KNN                                99.923                72.500\n",
       "Logistic Regression                99.914                70.303\n",
       "Random Forest                      99.947                82.558"
      ]
     },
     "execution_count": 238,
     "metadata": {},
     "output_type": "execute_result"
    }
   ],
   "source": [
    "pd.DataFrame({'Model': ['Decision Trees', 'KNN', 'Logistic Regression', 'Random Forest'], \n",
    "              'Highest Accuracy (%)': [round(dt_acc*100,3), round(knn_acc*100,3), \n",
    "                                       round(log_acc*100,3), round(rf_acc*100,3)],\n",
    "             'Highest F1-Score (%)': [round(dt_f1*100,3), round(knn_f1*100,3), \n",
    "                                       round(log_f1*100,3), round(rf_f1*100,3)]},\n",
    "            ).set_index('Model')"
   ]
  },
  {
   "cell_type": "code",
   "execution_count": null,
   "metadata": {},
   "outputs": [],
   "source": []
  }
 ],
 "metadata": {
  "kernelspec": {
   "display_name": "Python 3",
   "language": "python",
   "name": "python3"
  },
  "language_info": {
   "codemirror_mode": {
    "name": "ipython",
    "version": 3
   },
   "file_extension": ".py",
   "mimetype": "text/x-python",
   "name": "python",
   "nbconvert_exporter": "python",
   "pygments_lexer": "ipython3",
   "version": "3.8.8"
  }
 },
 "nbformat": 4,
 "nbformat_minor": 1
}
